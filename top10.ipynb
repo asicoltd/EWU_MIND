{
 "cells": [
  {
   "cell_type": "code",
   "execution_count": 1,
   "metadata": {},
   "outputs": [
    {
     "name": "stderr",
     "output_type": "stream",
     "text": [
      "51.7kKiB [14:17, 60.3KiB/s]                          \n"
     ]
    },
    {
     "name": "stdout",
     "output_type": "stream",
     "text": [
      "File downloaded successfully.\n"
     ]
    },
    {
     "name": "stderr",
     "output_type": "stream",
     "text": [
      "100%|██████████| 4/4 [00:00<00:00,  7.14file/s]\n"
     ]
    },
    {
     "name": "stdout",
     "output_type": "stream",
     "text": [
      "File unzipped successfully.\n",
      "Zip file removed.\n",
      "Top 10 recommended news articles saved to database/topNews.csv\n",
      "Data saved to newsData.csv\n",
      "Data saved to news.csv\n"
     ]
    },
    {
     "ename": "TypeError",
     "evalue": "argument of type 'builtin_function_or_method' is not iterable",
     "output_type": "error",
     "traceback": [
      "\u001b[1;31m---------------------------------------------------------------------------\u001b[0m",
      "\u001b[1;31mTypeError\u001b[0m                                 Traceback (most recent call last)",
      "Cell \u001b[1;32mIn[1], line 95\u001b[0m\n\u001b[0;32m     93\u001b[0m     \u001b[38;5;28;01mfor\u001b[39;00m row \u001b[38;5;129;01min\u001b[39;00m reader:\n\u001b[0;32m     94\u001b[0m         \u001b[38;5;28;01mif\u001b[39;00m \u001b[38;5;28mlen\u001b[39m(row) \u001b[38;5;241m>\u001b[39m \u001b[38;5;241m1\u001b[39m:\n\u001b[1;32m---> 95\u001b[0m             \u001b[38;5;28;01mif\u001b[39;00m \u001b[43mrow\u001b[49m\u001b[43m[\u001b[49m\u001b[38;5;241;43m1\u001b[39;49m\u001b[43m]\u001b[49m\u001b[43m \u001b[49m\u001b[38;5;129;43;01mnot\u001b[39;49;00m\u001b[43m \u001b[49m\u001b[38;5;129;43;01min\u001b[39;49;00m\u001b[43m \u001b[49m\u001b[38;5;28;43mid\u001b[39;49m:\n\u001b[0;32m     96\u001b[0m                 \u001b[38;5;28mid\u001b[39m\u001b[38;5;241m.\u001b[39mappend([row[\u001b[38;5;241m1\u001b[39m],row[\u001b[38;5;241m1\u001b[39m]])\n\u001b[0;32m     97\u001b[0m idx \u001b[38;5;241m=\u001b[39m pd\u001b[38;5;241m.\u001b[39mDataFrame(\u001b[38;5;28mid\u001b[39m)\n",
      "\u001b[1;31mTypeError\u001b[0m: argument of type 'builtin_function_or_method' is not iterable"
     ]
    }
   ],
   "source": [
    "import requests\n",
    "import zipfile\n",
    "import os\n",
    "from tqdm import tqdm\n",
    "import csv\n",
    "from collections import defaultdict\n",
    "import pandas as pd\n",
    "url = \"https://mind201910small.blob.core.windows.net/release/MINDsmall_train.zip\"\n",
    "local_filename = \"MINDsmall_train.zip\"\n",
    "def download_file(url, local_filename):\n",
    "    response = requests.get(url, stream=True)\n",
    "    total_size = int(response.headers.get('content-length', 0))\n",
    "    block_size = 1024\n",
    "\n",
    "    with open(local_filename, \"wb\") as file:\n",
    "        for data in tqdm(response.iter_content(block_size), total=total_size // block_size, unit='KiB', unit_scale=True):\n",
    "            file.write(data)\n",
    "    print(\"File downloaded successfully.\")\n",
    "def unzip_file(zip_filename, extract_to):\n",
    "    with zipfile.ZipFile(zip_filename, \"r\") as zip_ref:\n",
    "        total_files = len(zip_ref.infolist())\n",
    "        for file in tqdm(zip_ref.infolist(), total=total_files, unit='file'):\n",
    "            zip_ref.extract(file, extract_to)\n",
    "    print(\"File unzipped successfully.\")\n",
    "download_file(url, local_filename)\n",
    "unzip_file(local_filename, \"database/MINDsmall_train\")\n",
    "os.remove(local_filename)\n",
    "print(\"Zip file removed.\")\n",
    "file_path = 'database/MINDsmall_train/behaviors.tsv'\n",
    "output_file = 'database/topNews.csv'\n",
    "recommended_counts = defaultdict(int)\n",
    "with open(file_path, 'r', encoding='utf-8') as tsvfile:\n",
    "    tsvreader = csv.reader(tsvfile, delimiter='\\t')\n",
    "    for line in tsvreader:\n",
    "        if len(line) >= 4:\n",
    "            recommended_articles = line[3].split()\n",
    "            for article in recommended_articles:\n",
    "                recommended_counts[article] += 1\n",
    "top_10_recommended = sorted(recommended_counts.items(), key=lambda x: x[1], reverse=True)[:10]\n",
    "with open(output_file, 'w', newline='', encoding='utf-8') as csvfile:\n",
    "    csvwriter = csv.writer(csvfile)\n",
    "    csvwriter.writerow(['Article ID', 'Count'])\n",
    "    for article_id, count in top_10_recommended:\n",
    "        csvwriter.writerow([article_id, count])\n",
    "print(f\"Top 10 recommended news articles saved to {output_file}\")\n",
    "df = pd.read_csv('database/MINDsmall_train/behaviors.tsv',sep='\\t', header=None)\n",
    "df.columns = ['ID', 'User', 'Timestamp', 'NewsIDs', 'Interactions']\n",
    "like_count = {}\n",
    "dislike_count = {}\n",
    "neutral_count = {}\n",
    "total_clicks = {}\n",
    "for index, row in df.iterrows():\n",
    "    if isinstance(row['NewsIDs'], str) and isinstance(row['Interactions'], str):\n",
    "        news_ids = row['NewsIDs'].split()\n",
    "        interactions = row['Interactions'].split()\n",
    "        for news_id in news_ids:\n",
    "            if news_id not in like_count:\n",
    "                like_count[news_id] = 0\n",
    "                dislike_count[news_id] = 0\n",
    "                neutral_count[news_id] = 0\n",
    "                total_clicks[news_id] = 0\n",
    "            neutral_count[news_id] += 1\n",
    "            total_clicks[news_id] += 1\n",
    "        for interaction in interactions:\n",
    "            news_id, value = interaction.rsplit('-', 1)\n",
    "            if news_id not in like_count:\n",
    "                like_count[news_id] = 0\n",
    "                dislike_count[news_id] = 0\n",
    "                neutral_count[news_id] = 0\n",
    "                total_clicks[news_id] = 0\n",
    "            if value == '1':\n",
    "                like_count[news_id] += 1\n",
    "            elif value == '0':\n",
    "                dislike_count[news_id] += 1\n",
    "            total_clicks[news_id] += 1\n",
    "result_df = pd.DataFrame({\n",
    "    'NewsID': list(like_count.keys()),\n",
    "    'Likes': list(like_count.values()),\n",
    "    'Dislikes': list(dislike_count.values()),\n",
    "    'Neutrals': list(neutral_count.values()),\n",
    "    'Total Clicks': list(total_clicks.values())\n",
    "})\n",
    "result_df.to_csv('database/newsData.csv', index=False)\n",
    "print(\"Data saved to newsData.csv\")\n",
    "df = pd.read_csv('database/MINDsmall_train/behaviors.tsv',sep='\\t', header=None)\n",
    "df.to_csv('database/behaviors.csv', index=False, header=None)\n",
    "df = pd.read_csv('database/MINDsmall_train/news.tsv',sep='\\t', header=None)\n",
    "df.to_csv('database/news.csv', index=False, header=None)\n",
    "print(\"Data saved to news.csv\")\n",
    "id_list = []\n",
    "with open('database/MINDsmall_train/behaviors.tsv', 'r') as file:\n",
    "    reader = csv.reader(file, delimiter='\\t')\n",
    "    for row in reader:\n",
    "        if len(row) > 1:\n",
    "            if row[1] not in id_list:\n",
    "                id_list.append({'id': row[0],'pass':row[0]})\n",
    "idx = pd.DataFrame(id_list)\n",
    "idx.to_csv('database/userpass.csv', index=False)"
   ]
  },
  {
   "cell_type": "code",
   "execution_count": 11,
   "metadata": {},
   "outputs": [],
   "source": []
  }
 ],
 "metadata": {
  "kernelspec": {
   "display_name": "Python 3",
   "language": "python",
   "name": "python3"
  },
  "language_info": {
   "codemirror_mode": {
    "name": "ipython",
    "version": 3
   },
   "file_extension": ".py",
   "mimetype": "text/x-python",
   "name": "python",
   "nbconvert_exporter": "python",
   "pygments_lexer": "ipython3",
   "version": "3.11.6"
  }
 },
 "nbformat": 4,
 "nbformat_minor": 2
}
